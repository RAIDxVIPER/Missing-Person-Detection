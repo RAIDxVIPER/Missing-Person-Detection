{
 "cells": [
  {
   "cell_type": "markdown",
   "metadata": {},
   "source": [
    "### Requrired Libraries "
   ]
  },
  {
   "cell_type": "code",
   "execution_count": 1,
   "metadata": {},
   "outputs": [],
   "source": [
    "from flask import Flask, request, render_template"
   ]
  },
  {
   "cell_type": "markdown",
   "metadata": {},
   "source": [
    "### Importing Libraries"
   ]
  },
  {
   "cell_type": "code",
   "execution_count": 2,
   "metadata": {},
   "outputs": [
    {
     "name": "stdout",
     "output_type": "stream",
     "text": [
      "WARNING:tensorflow:From c:\\Users\\ronit\\anaconda3\\Lib\\site-packages\\tf_keras\\src\\losses.py:2976: The name tf.losses.sparse_softmax_cross_entropy is deprecated. Please use tf.compat.v1.losses.sparse_softmax_cross_entropy instead.\n",
      "\n"
     ]
    }
   ],
   "source": [
    "import os\n",
    "import cv2\n",
    "import numpy as np\n",
    "from deepface import DeepFace\n",
    "from tensorflow.keras.preprocessing.image import img_to_array, load_img\n",
    "from tensorflow.keras.applications.resnet50 import preprocess_input"
   ]
  },
  {
   "cell_type": "markdown",
   "metadata": {},
   "source": [
    "### Load Preprocess Imagees"
   ]
  },
  {
   "cell_type": "code",
   "execution_count": 3,
   "metadata": {},
   "outputs": [],
   "source": [
    "app = Flask(__name__)\n",
    "\n",
    "UPLOAD_FOLDER = \"static/uploads\"\n",
    "DATABASE_FOLDER = r\"archive (3)\\lfw-deepfunneled\\lfw-deepfunneled\"  # Update to the LFW dataset folder"
   ]
  },
  {
   "cell_type": "code",
   "execution_count": 4,
   "metadata": {},
   "outputs": [],
   "source": [
    "def verify_face(image1, image2):\n",
    "    \"\"\"Compares two images using DeepFace and returns similarity.\"\"\"\n",
    "    try:\n",
    "        result = DeepFace.verify(image1, image2, model_name=\"Facenet\")\n",
    "        return result['verified'], result['distance']\n",
    "    except Exception as e:\n",
    "        print(\"Error during face verification:\", e)\n",
    "        return False, None"
   ]
  },
  {
   "cell_type": "code",
   "execution_count": 5,
   "metadata": {},
   "outputs": [],
   "source": [
    "def identify_missing_person(missing_person_img, database_path):\n",
    "    \"\"\"Compares a missing person's image against a database of found persons.\"\"\"\n",
    "    for person_folder in os.listdir(database_path):\n",
    "        person_folder_path = os.path.join(database_path, person_folder)\n",
    "        print(person_folder_path)\n",
    "        if os.path.isdir(person_folder_path):  # Check if it's a directory\n",
    "            for person_img in os.listdir(person_folder_path):\n",
    "                person_img_path = os.path.join(person_folder_path, person_img)\n",
    "                match, distance = verify_face(missing_person_img, person_img_path)\n",
    "\n",
    "                if match:\n",
    "                    print(f\"Match Found: {person_img_path} (Distance: {distance:.4f})\")\n",
    "                    return person_img_path  # Return the matched image path\n",
    "    print(\"No match found.\")\n",
    "    return None\n",
    "\n"
   ]
  },
  {
   "cell_type": "code",
   "execution_count": 6,
   "metadata": {},
   "outputs": [],
   "source": [
    "os.makedirs(UPLOAD_FOLDER, exist_ok=True)\n",
    "\n",
    "@app.route(\"/\")\n",
    "def home():\n",
    "    return render_template(\"index.html\")\n",
    "\n",
    "@app.route(\"/upload\", methods=[\"POST\"])\n",
    "def upload():\n",
    "    if \"file\" not in request.files:\n",
    "        return \"No file uploaded\", 400\n",
    "\n",
    "    file = request.files[\"file\"]\n",
    "    file_path = os.path.join(UPLOAD_FOLDER, file.filename)\n",
    "    file.save(file_path)\n",
    "\n",
    "    matched_image = identify_missing_person(file_path, DATABASE_FOLDER)\n",
    "\n",
    "    if matched_image:\n",
    "        return render_template(\"result.html\", match=matched_image)\n",
    "    else:\n",
    "        return render_template(\"result.html\", match=None)\n"
   ]
  },
  {
   "cell_type": "code",
   "execution_count": null,
   "metadata": {},
   "outputs": [
    {
     "name": "stdout",
     "output_type": "stream",
     "text": [
      " * Serving Flask app '__main__'\n",
      " * Debug mode: off\n"
     ]
    },
    {
     "name": "stderr",
     "output_type": "stream",
     "text": [
      "WARNING: This is a development server. Do not use it in a production deployment. Use a production WSGI server instead.\n",
      " * Running on http://127.0.0.1:5000\n",
      "Press CTRL+C to quit\n",
      "127.0.0.1 - - [18/Feb/2025 21:35:46] \"GET / HTTP/1.1\" 200 -\n",
      "127.0.0.1 - - [18/Feb/2025 21:35:48] \"GET /favicon.ico HTTP/1.1\" 404 -\n"
     ]
    },
    {
     "name": "stdout",
     "output_type": "stream",
     "text": [
      "archive (3)\\lfw-deepfunneled\\lfw-deepfunneled\\Aaron_Eckhart\n"
     ]
    },
    {
     "name": "stderr",
     "output_type": "stream",
     "text": [
      "127.0.0.1 - - [18/Feb/2025 21:36:09] \"POST /upload HTTP/1.1\" 200 -\n"
     ]
    },
    {
     "name": "stdout",
     "output_type": "stream",
     "text": [
      "Match Found: archive (3)\\lfw-deepfunneled\\lfw-deepfunneled\\Aaron_Eckhart\\Aaron_Eckhart_0001.jpg (Distance: 0.0000)\n"
     ]
    }
   ],
   "source": [
    "if __name__ == \"__main__\":\n",
    "    app.run(debug=False)"
   ]
  },
  {
   "cell_type": "markdown",
   "metadata": {},
   "source": [
    "### Verifying"
   ]
  },
  {
   "cell_type": "markdown",
   "metadata": {},
   "source": [
    "### Comparing missing person photos with database"
   ]
  },
  {
   "cell_type": "code",
   "execution_count": null,
   "metadata": {},
   "outputs": [],
   "source": []
  }
 ],
 "metadata": {
  "kernelspec": {
   "display_name": "base",
   "language": "python",
   "name": "python3"
  },
  "language_info": {
   "codemirror_mode": {
    "name": "ipython",
    "version": 3
   },
   "file_extension": ".py",
   "mimetype": "text/x-python",
   "name": "python",
   "nbconvert_exporter": "python",
   "pygments_lexer": "ipython3",
   "version": "3.12.4"
  }
 },
 "nbformat": 4,
 "nbformat_minor": 2
}
